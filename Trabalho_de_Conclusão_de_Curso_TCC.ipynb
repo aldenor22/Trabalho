{
  "nbformat": 4,
  "nbformat_minor": 0,
  "metadata": {
    "colab": {
      "name": "Trabalho de Conclusão de Curso-TCC",
      "provenance": [],
      "authorship_tag": "ABX9TyNXzbq/YJM5MdYOp+H1zAoY",
      "include_colab_link": true
    },
    "kernelspec": {
      "name": "python3",
      "display_name": "Python 3"
    }
  },
  "cells": [
    {
      "cell_type": "markdown",
      "metadata": {
        "id": "view-in-github",
        "colab_type": "text"
      },
      "source": [
        "<a href=\"https://colab.research.google.com/github/aldenor22/Trabalho-Final-do-Curso-de-Python/blob/master/Trabalho_de_Conclus%C3%A3o_de_Curso_TCC.ipynb\" target=\"_parent\"><img src=\"https://colab.research.google.com/assets/colab-badge.svg\" alt=\"Open In Colab\"/></a>"
      ]
    },
    {
      "cell_type": "markdown",
      "metadata": {
        "id": "G6qYR2KJI6fm",
        "colab_type": "text"
      },
      "source": [
        ""
      ]
    },
    {
      "cell_type": "markdown",
      "metadata": {
        "id": "vgCmXAVrI9HE",
        "colab_type": "text"
      },
      "source": [
        "###**Evolução da Netflix Como produtora de Entretenimento**\n",
        "**Será que ela promove o entretenimento para o bem está de todos em todas as idade ?**"
      ]
    },
    {
      "cell_type": "markdown",
      "metadata": {
        "id": "Y5NaAxPdFG6V",
        "colab_type": "text"
      },
      "source": [
        ">>> Gráficos de Produção"
      ]
    },
    {
      "cell_type": "code",
      "metadata": {
        "id": "-OfJjoeuJXd_",
        "colab_type": "code",
        "colab": {
          "base_uri": "https://localhost:8080/",
          "height": 449
        },
        "outputId": "65d37819-bbf3-48ec-ea5d-317e3388dc85"
      },
      "source": [
        "import numpy as np\n",
        "import matplotlib.pyplot as plt\n",
        "import pandas as pd\n",
        "\n",
        "import matplotlib.pyplot as plt\n",
        "import numpy as np\n",
        "\n",
        "# Fixing random state for reproducibility\n",
        "np.random.seed(19680801)\n",
        "\n",
        "plt.rcdefaults()\n",
        "fig, ax1 = plt.subplots()\n",
        "\n",
        "# Example data\n",
        "setor = ('Cultura','Habitação','Transporte','Saúde')\n",
        "y_pos = np.arange(len(setor))\n",
        "gastos = [282.86,1215,658.23,1302]\n",
        "#performance = 3 + 10 * np.random.rand(len(setor))\n",
        "#error = np.random.rand(len(setor))\n",
        "l = 0.45\n",
        "ax1.barh(y_pos, gastos, l)\n",
        "ax1.set_yticks(y_pos)\n",
        "ax1.set_yticklabels(setor)\n",
        "ax1.invert_yaxis()  # labels read top-to-bottom\n",
        "ax1.set_xticks(np.arange(0, 1350, 200))\n",
        "ax1.set_xlabel('Performance')\n",
        "ax.set_title('How fast do you want to go today?')\n",
        "\n",
        "plt.show()\n"
      ],
      "execution_count": 36,
      "outputs": [
        {
          "output_type": "display_data",
          "data": {
            "image/png": "[encoded data removed]",
            "text/plain": [
              "<Figure size 640x480 with 1 Axes>"
            ]
          },
          "metadata": {
            "tags": []
          }
        }
      ]
    }
  ]
}