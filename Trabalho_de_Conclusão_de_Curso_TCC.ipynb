{
  "nbformat": 4,
  "nbformat_minor": 0,
  "metadata": {
    "colab": {
      "name": "Trabalho de Conclusão de Curso-TCC",
      "provenance": [],
      "authorship_tag": "ABX9TyNzqh3wugxhLk2vUVppv16o",
      "include_colab_link": true
    },
    "kernelspec": {
      "name": "python3",
      "display_name": "Python 3"
    }
  },
  "cells": [
    {
      "cell_type": "markdown",
      "metadata": {
        "id": "view-in-github",
        "colab_type": "text"
      },
      "source": [
        "<a href=\"https://colab.research.google.com/github/aldenor22/Trabalho-Final-do-Curso-de-Python/blob/master/Trabalho_de_Conclus%C3%A3o_de_Curso_TCC.ipynb\" target=\"_parent\"><img src=\"https://colab.research.google.com/assets/colab-badge.svg\" alt=\"Open In Colab\"/></a>"
      ]
    },
    {
      "cell_type": "markdown",
      "metadata": {
        "id": "G6qYR2KJI6fm",
        "colab_type": "text"
      },
      "source": [
        ""
      ]
    },
    {
      "cell_type": "code",
      "metadata": {
        "id": "ZC-A1AFBhpCN",
        "colab_type": "code",
        "colab": {}
      },
      "source": [
        "import pandas as pd\n",
        "#df = pd.read_csv('planilha_resuo_02.csv')\n"
      ],
      "execution_count": 3,
      "outputs": []
    },
    {
      "cell_type": "code",
      "metadata": {
        "id": "-cAnQ8XEOhMb",
        "colab_type": "code",
        "colab": {
          "base_uri": "https://localhost:8080/",
          "height": 314
        },
        "outputId": "9bd6c8bb-af50-45fe-be27-efc41e6497b7"
      },
      "source": [
        "#Gráfico 01\n",
        "import numpy as np\n",
        "import matplotlib.pyplot as plt\n",
        "\n",
        "labels = ['Cultura','Habitação','Transporte','Saúde']\n",
        "men_means = [282.86,1215,658.23,1302]\n",
        "\n",
        "x = np.arange(len(labels))  # the label locations\n",
        "width = 0.35  # the width of the bars\n",
        "\n",
        "fig, ax = plt.subplots()\n",
        "rects1 = ax.bar(x, men_means, width)\n",
        "\n",
        "# Add some text for labels, title and custom x-axis tick labels, etc.\n",
        "ax.set_ylabel('Valores(R$)')\n",
        "ax.set_title('Gasto Médio Mensal Familiar')\n",
        "ax.set_xticks(x)\n",
        "ax.set_xticklabels(labels)\n",
        "#ax.legend()\n",
        "\n",
        "\n",
        "def autolabel(z):\n",
        "   # Anexe um rótulo de texto acima de cada barra em *z *, exibindo sua altura\n",
        "    for y in z:\n",
        "        altura = y.get_height()\n",
        "        ax.annotate('{}'.format(altura),\n",
        "                    xy=(y.get_x() + y.get_width()/2, altura),\n",
        "                    xytext=(0, 3),  # 3 points vertical offset\n",
        "                    textcoords=\"offset points\",\n",
        "                    ha='center', va='bottom')\n",
        "\n",
        "\n",
        "autolabel(rects1)\n",
        "\n",
        "fig.tight_layout()\n",
        "print('GRÁFICO 01')\n",
        "plt.show()"
      ],
      "execution_count": null,
      "outputs": [
        {
          "output_type": "stream",
          "text": [
            "GRÁFICO 01\n"
          ],
          "name": "stdout"
        },
        {
          "output_type": "display_data",
          "data": {
            "image/png": "[encoded data removed]",
            "text/plain": [
              "<Figure size 432x288 with 1 Axes>"
            ]
          },
          "metadata": {
            "tags": [],
            "needs_background": "light"
          }
        }
      ]
    },
    {
      "cell_type": "code",
      "metadata": {
        "id": "jnjk44W6YBL_",
        "colab_type": "code",
        "colab": {}
      },
      "source": [
        "import numpy as np\n",
        "import matplotlib.pyplot as plt\n",
        "import pandas as pd\n",
        "\n",
        "# Fixing random state for reproducibility\n",
        "np.random.seed(19680801)\n",
        "\n",
        "plt.rcdefaults()\n",
        "fig, ax1 = plt.subplots()\n",
        "\n",
        "# Example data\n",
        "setor = ('Cultura','Habitação','Transporte','Saúde')\n",
        "y_pos = np.arange(len(setor))\n",
        "gastos = [282.86,1215,658.23,1302]\n",
        "#performance = 3 + 10 * np.random.rand(len(setor))\n",
        "#error = np.random.rand(len(setor))\n",
        "l = 0.45\n",
        "p1 = ax1.barh(y_pos, gastos, l)\n",
        "ax1.set_yticks(y_pos)\n",
        "ax1.set_yticklabels(setor)\n",
        "ax1.invert_yaxis()  # labels read top-to-bottom\n",
        "ax1.set_xticks(np.arange(0, 1350, 200))\n",
        "ax1.set_xlabel('Performance')\n",
        "ax.set_title('How fast do you want to go today?')\n",
        "\n",
        "plt.show()\n"
      ],
      "execution_count": null,
      "outputs": []
    }
  ]
}