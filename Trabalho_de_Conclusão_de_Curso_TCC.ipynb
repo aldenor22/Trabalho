{
  "nbformat": 4,
  "nbformat_minor": 0,
  "metadata": {
    "colab": {
      "name": "Trabalho de Conclusão de Curso-TCC",
      "provenance": [],
      "toc_visible": true,
      "authorship_tag": "ABX9TyPe4ZoinDSUc8HUiAZHJera",
      "include_colab_link": true
    },
    "kernelspec": {
      "name": "python3",
      "display_name": "Python 3"
    }
  },
  "cells": [
    {
      "cell_type": "markdown",
      "metadata": {
        "id": "view-in-github",
        "colab_type": "text"
      },
      "source": [
        "<a href=\"https://colab.research.google.com/github/aldenor22/Trabalho-Final-do-Curso-de-Python/blob/master/Trabalho_de_Conclus%C3%A3o_de_Curso_TCC.ipynb\" target=\"_parent\"><img src=\"https://colab.research.google.com/assets/colab-badge.svg\" alt=\"Open In Colab\"/></a>"
      ]
    },
    {
      "cell_type": "markdown",
      "metadata": {
        "id": "FMYSKNuC_uTc",
        "colab_type": "text"
      },
      "source": [
        "# Código Fonte Do Trabalho"
      ]
    },
    {
      "cell_type": "code",
      "metadata": {
        "id": "BtyPMSvDx-Je",
        "colab_type": "code",
        "colab": {}
      },
      "source": [
        "#importando dataset\n",
        "import pandas as pd\n",
        "#df =pd.read_csv('https://github.com/aldenor22/Trabalho-Final-do-Curso-de-Python/blob/master/PlanilhaResumo_csv.csv')\n",
        "#df"
      ],
      "execution_count": 19,
      "outputs": []
    },
    {
      "cell_type": "code",
      "metadata": {
        "id": "ZC-A1AFBhpCN",
        "colab_type": "code",
        "colab": {
          "base_uri": "https://localhost:8080/",
          "height": 119
        },
        "outputId": "7972e8a8-42b2-4c25-f358-a91b688cba48"
      },
      "source": [
        "#Tabela 01\n",
        "import numpy as np\n",
        "import matplotlib.pyplot as plt\n",
        "import pandas as pd\n",
        "data = [['Cultura',282.86],['Habitação',1215],['Transporte',658.23],['Saúde',1302]]\n",
        "df = pd.DataFrame (data,columns=['Setor','Valor(R$)'])\n",
        "print(\"TABELA 01\")\n",
        "print (df)\n"
      ],
      "execution_count": 17,
      "outputs": [
        {
          "output_type": "stream",
          "text": [
            "TABELA 01\n",
            "        Setor  Valor(R$)\n",
            "0     Cultura     282.86\n",
            "1   Habitação    1215.00\n",
            "2  Transporte     658.23\n",
            "3       Saúde    1302.00\n"
          ],
          "name": "stdout"
        }
      ]
    },
    {
      "cell_type": "code",
      "metadata": {
        "id": "-cAnQ8XEOhMb",
        "colab_type": "code",
        "colab": {
          "base_uri": "https://localhost:8080/",
          "height": 314
        },
        "outputId": "b96225a4-4056-4eb9-d43c-0322fa0ca807"
      },
      "source": [
        "#Gráfico 01\n",
        "import numpy as np\n",
        "import matplotlib.pyplot as plt\n",
        "\n",
        "setor = ['Cultura','Habitação','Transporte','Saúde']\n",
        "var1 = [282.86,1215,658.23,1302]\n",
        "\n",
        "N = np.arange(len(setor))  # os locais das etiquetas\n",
        "largura = 0.35  #a largura das barras\n",
        "\n",
        "fig, ax = plt.subplots() #Determina o área do gráfico\n",
        "b1 = ax.bar(N, var1, largura) #Determina um conjunto de barras\n",
        "\n",
        "#Títulos e etiquetas dos eixos\n",
        "ax.set_ylabel('Valores(R$)') #Título do eixo y\n",
        "ax.set_title('Gasto Médio Mensal Familiar') #Título do gráfico\n",
        "ax.set_xticks(N) #Quantidade de etiquetas de x\n",
        "ax.set_xticklabels(setor) #Etiquetas de x\n",
        "\n",
        "#Rótuloas das Barras\n",
        "def autolabel(z):\n",
        "   # Anexe um rótulo de texto acima de cada barra em *z *, exibindo sua altura\n",
        "    for y in z:\n",
        "        yv = y.get_height()\n",
        "        ax.annotate('{}'.format(yv),\n",
        "                    xy=(y.get_x() + y.get_width()/2, yv),\n",
        "                    xytext=(0, 0),  # Deslocamento vertical de 3 pontos\n",
        "                    textcoords=\"offset points\",\n",
        "                    ha='center', va='bottom')\n",
        "\n",
        "\n",
        "autolabel(b1)\n",
        "\n",
        "fig.tight_layout()\n",
        "print('GRÁFICO 01')\n",
        "plt.savefig(\"image.png\")"
      ],
      "execution_count": null,
      "outputs": [
        {
          "output_type": "stream",
          "text": [
            "GRÁFICO 01\n"
          ],
          "name": "stdout"
        },
        {
          "output_type": "display_data",
          "data": {
            "image/png": "[encoded data removed]",
            "text/plain": [
              "<Figure size 432x288 with 1 Axes>"
            ]
          },
          "metadata": {
            "tags": [],
            "needs_background": "light"
          }
        }
      ]
    },
    {
      "cell_type": "code",
      "metadata": {
        "id": "BtAKZmLLrCIf",
        "colab_type": "code",
        "colab": {
          "base_uri": "https://localhost:8080/",
          "height": 102
        },
        "outputId": "91f2f230-9e61-4c0a-9778-495af0ae6442"
      },
      "source": [
        "#Tabela 02\n",
        "import numpy as np\n",
        "import matplotlib.pyplot as plt\n",
        "import pandas as pd\n",
        "data = [['Mulheres',50.5],['Pessoas Brancas',52.6],['Menores de 40 anos',54.9]]\n",
        "df = pd.DataFrame (data,columns=['Categoria','Valor(%)'])\n",
        "print(\"TABELA 02\")\n",
        "print (df)"
      ],
      "execution_count": null,
      "outputs": [
        {
          "output_type": "stream",
          "text": [
            "TABELA 02\n",
            "            Categoria  Valor(%)\n",
            "0            Mulheres      50.5\n",
            "1     Pessoas Brancas      52.6\n",
            "2  Menores de 40 anos      54.9\n"
          ],
          "name": "stdout"
        }
      ]
    },
    {
      "cell_type": "code",
      "metadata": {
        "id": "_Rl_4TQHjX8Q",
        "colab_type": "code",
        "colab": {
          "base_uri": "https://localhost:8080/",
          "height": 421
        },
        "outputId": "b87c9498-db65-401c-e77f-53efa2e0c5cb"
      },
      "source": [
        "#Gráficos 02\n",
        "import numpy as np\n",
        "import matplotlib.pyplot as plt\n",
        "import pandas as pd\n",
        "\n",
        "#Dados\n",
        "percentual = [50.5,52.6,54.9]\n",
        "N = pd.Series(percentual)\n",
        "setor = ['Mulheres','Pessoas Brancas','Menores de 40 Anos']\n",
        "\n",
        "plt.figure(figsize=(10, 6))   # Traçar a área do gráfico\n",
        "ax = N.plot(kind='barh') #Determina as barras horizontais\n",
        "ax.set_title('Empregados no Setor Cultural') #Título\n",
        "ax.set_xlabel('Empregados(%)') #Título do eixo X\n",
        "ax.set_ylabel('Categoria')  #Título do eixo Y\n",
        "ax.set_yticklabels(setor)   # etiquetas de Y\n",
        "ax.set_xticks(np.arange(0,101,10)) #quantidades de etiquetas X\n",
        "ax.set_xticklabels(['0%','10%','20%','30%','40%','50%','60%','70%','80','90%',\n",
        "                    '100%']) #Etiquetas de X\n",
        "ax.set_xlim(0, 100) # expanda o xlim para facilitar a leitura dos rótulos\n",
        "\n",
        "\n",
        "rects = ax.patches # Para cada barra 'rects' Coloque um rótulo\n",
        "for r in rects:  # Anexe um rótulo de texto acima de cada barra em *r *, exibindo seu valor\n",
        "    space = 5   #Número de pontos entre barra e etiqueta. Mude ao seu gosto.\n",
        "    ha = 'left'  # Alinhamento vertical para valores positivos\n",
        "   \n",
        "    # Obtenha o posicionamento X e Y da etiqueta de r.\n",
        "    x_valores = r.get_width() # pegue a posicionamento de x na horizontal\n",
        "    y_valores = r.get_y() + r.get_height() / 2 # pegue a posicionamento de y na vertical\n",
        "    plt.annotate(\n",
        "        \"{:.2f}%\".format(x_valores),  # Use valores de X como etiqueta no formato \n",
        "                                    #porcentagem com 2 casas decimais.\n",
        "        (x_valores, y_valores),          # Use x_value e y_value\n",
        "        xytext=(space, 0) ,          # Deslocar horizontalmente o rótulo por \n",
        "                                     #'espaço '\n",
        "        textcoords=\"offset points\", # Interpretar `xytext` como deslocamento em\n",
        "                                    # pontos\n",
        "        va='center',                # Rótulo centralizado verticalmente\n",
        "        ha=ha)                      # Alinhe o rótulo horizontalmente\n",
        "                                    \n",
        "print('GRÁFICO 02')\n",
        "plt.savefig(\"image.png\")"
      ],
      "execution_count": null,
      "outputs": [
        {
          "output_type": "stream",
          "text": [
            "GRÁFICO 02\n"
          ],
          "name": "stdout"
        },
        {
          "output_type": "display_data",
          "data": {
            "image/png": "[encoded data removed]",
            "text/plain": [
              "<Figure size 720x432 with 1 Axes>"
            ]
          },
          "metadata": {
            "tags": [],
            "needs_background": "light"
          }
        }
      ]
    },
    {
      "cell_type": "code",
      "metadata": {
        "id": "YVjkPr7fuknj",
        "colab_type": "code",
        "colab": {
          "base_uri": "https://localhost:8080/",
          "height": 136
        },
        "outputId": "92995644-5e9f-42e6-9dc4-f638b4d0cd39"
      },
      "source": [
        "#Tabela 03\n",
        "import numpy as np\n",
        "import matplotlib.pyplot as plt\n",
        "import pandas as pd\n",
        "data = [['Cinemas',44.0,34.8],['Museu',37.2,25.4],['Teatros',35.2,25.8],\n",
        "        ['Rádios',20.5,16.5],['Internet',15.3,14.3]]\n",
        "df = pd.DataFrame (data,columns=['Sem Acesso','Pretos(%)','Brancos(%)'])\n",
        "print(\"TABELA 03\")\n",
        "print (df)"
      ],
      "execution_count": null,
      "outputs": [
        {
          "output_type": "stream",
          "text": [
            "TABELA 03\n",
            "  Sem Acesso  Pretos(%)  Brancos(%)\n",
            "0    Cinemas       44.0        34.8\n",
            "1      Museu       37.2        25.4\n",
            "2    Teatros       35.2        25.8\n",
            "3     Rádios       20.5        16.5\n",
            "4   Internet       15.3        14.3\n"
          ],
          "name": "stdout"
        }
      ]
    },
    {
      "cell_type": "code",
      "metadata": {
        "id": "vwVvvYnvAPR0",
        "colab_type": "code",
        "colab": {
          "base_uri": "https://localhost:8080/",
          "height": 314
        },
        "outputId": "d8c07da4-1df8-4bf9-b6cb-37c426e22082"
      },
      "source": [
        "#Gráfico 03\n",
        "import matplotlib\n",
        "import matplotlib.pyplot as plt\n",
        "import numpy as np\n",
        "\n",
        "labels = ['Cinemas', 'Museu', 'Teatros', 'Rádios', 'Internet'] \n",
        "Pretos = [44, 37.5, 35.2, 20.5, 15.3]\n",
        "Brancos = [34.8, 25.4, 25.8, 16.5, 14.3]\n",
        "\n",
        "x = np.arange(len(labels))  # os locais das etiquetas\n",
        "width = 0.35  # a largura das barras\n",
        "\n",
        "fig, ax = plt.subplots() #Determina a área do gráfico\n",
        "#Barras da legenda\n",
        "rects1 = ax.bar(x - width/2, Pretos, width, label='Pretos') \n",
        "rects2 = ax.bar(x + width/2, Brancos, width, label='Brancos')\n",
        "ax.legend()\n",
        "# Adicione um pouco de texto para etiquetas e títulos\n",
        "ax.set_ylabel('Quantidade sem acesso.') #Título do eixo y\n",
        "ax.set_title('Acesso a cultura por grupo étnico.') #Titulo do gráfico\n",
        "ax.set_xticks(x) # Quantidade de etiquetas de x\n",
        "ax.set_xticklabels(labels) #Etiquetas de x\n",
        "ax.set_yticks(np.arange(0,61,10)) #Quantidade de etiqueta de y\n",
        "ax.set_yticklabels(['0%','10%','20%','30%','40%','50%','60%']) #Etiqueta de y\n",
        "\n",
        "\n",
        "def autolabel(rects): #Para cada barra 'rects' Coloque um rótulo\n",
        "    \"\"\"Anexe um rótulo de texto acima de cada barra em * rects *, \n",
        "       exibindo sua altura.\"\"\"\n",
        "    for rect in rects:\n",
        "        height = rect.get_height()\n",
        "        ax.annotate('{:.2f}%'.format(height),\n",
        "                    xy=(rect.get_x() + rect.get_width() / 2, height),\n",
        "                    xytext=(0, 3),  # Deslocamento vertical de 3 pontos\n",
        "                    textcoords=\"offset points\",\n",
        "                    ha='center', va='bottom')\n",
        "\n",
        "\n",
        "autolabel(rects1)\n",
        "autolabel(rects2)\n",
        "\n",
        "fig.tight_layout()\n",
        "print('GRÁFICO 03')\n",
        "plt.show()\n"
      ],
      "execution_count": null,
      "outputs": [
        {
          "output_type": "stream",
          "text": [
            "GRÁFICO 03\n"
          ],
          "name": "stdout"
        },
        {
          "output_type": "display_data",
          "data": {
            "image/png": "[encoded data removed]",
            "text/plain": [
              "<Figure size 432x288 with 1 Axes>"
            ]
          },
          "metadata": {
            "tags": [],
            "needs_background": "light"
          }
        }
      ]
    }
  ]
}